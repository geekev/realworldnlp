{
 "cells": [
  {
   "cell_type": "markdown",
   "id": "6599dc6d-3110-4979-bf9a-078bc07c993a",
   "metadata": {},
   "source": [
    "First build an Annoy index<br>\n",
    "Annoy (released by Spotidfy) is used to do an approximate nearest neighbor search to speed up the search for similar word embeddings "
   ]
  },
  {
   "cell_type": "code",
   "execution_count": 16,
   "id": "8f615581-b1ae-4232-95b3-ccd805017fa6",
   "metadata": {},
   "outputs": [],
   "source": [
    "from annoy import AnnoyIndex\n",
    "import pickle\n",
    " \n",
    "#EMBEDDING_DIM = 300\n",
    "EMBEDDING_DIM = 100\n",
    "\n",
    "#GLOVE_FILE_PREFIX = 'data/glove/glove.42B.300d{}'\n",
    "GLOVE_FILE_PREFIX = '../data/glove/glove.twitter.27B.100d{}'\n",
    " \n",
    "def build_index():\n",
    "    num_trees = 10\n",
    " # ADDED metric='angular' as per warning message for future versions\n",
    "    idx = AnnoyIndex(EMBEDDING_DIM,metric='angular')\n",
    " # create a dict\n",
    "    index_to_word = {}\n",
    "    with open(GLOVE_FILE_PREFIX.format('.txt')) as f:\n",
    "        for i, line in enumerate(f):\n",
    "            fields = line.rstrip().split(' ')\n",
    "            vec = [float(x) for x in fields[1:]]\n",
    "            idx.add_item(i, vec)\n",
    "            index_to_word[i] = fields[0]\n",
    " # save dict to file for word lookup later\n",
    "    idx.build(num_trees)\n",
    "    idx.save(GLOVE_FILE_PREFIX.format('.idx'))\n",
    "    pickle.dump(index_to_word,\n",
    "                open(GLOVE_FILE_PREFIX.format('.i2w'), mode='wb'))"
   ]
  },
  {
   "cell_type": "code",
   "execution_count": 17,
   "id": "6cd082e8-8ea2-4f1b-ad1f-cf55673b9f4a",
   "metadata": {},
   "outputs": [],
   "source": [
    "build_index()"
   ]
  },
  {
   "cell_type": "markdown",
   "id": "398c6ca3-0a4a-436d-b5de-a58ed62f0c7c",
   "metadata": {},
   "source": [
    "Use Annoy index to retrieve similar words"
   ]
  },
  {
   "cell_type": "code",
   "execution_count": 18,
   "id": "49e1e741-af96-49c0-82d7-e66025f45400",
   "metadata": {},
   "outputs": [],
   "source": [
    "def search(query, top_n=10):\n",
    "    idx = AnnoyIndex(EMBEDDING_DIM)\n",
    "    idx.load(GLOVE_FILE_PREFIX.format('.idx'))\n",
    "    index_to_word = pickle.load(open(GLOVE_FILE_PREFIX.format('.i2w'),\n",
    "                                     mode='rb'))\n",
    "    word_to_index = {word: index for index, word in index_to_word.items()}\n",
    "    \n",
    "    query_id = word_to_index[query]\n",
    "    word_ids = idx.get_nns_by_item(query_id, top_n)\n",
    "    for word_id in word_ids:\n",
    "        print(index_to_word[word_id])\n"
   ]
  },
  {
   "cell_type": "code",
   "execution_count": 19,
   "id": "13637af3-ffe4-493f-841a-46e69b579371",
   "metadata": {},
   "outputs": [
    {
     "name": "stderr",
     "output_type": "stream",
     "text": [
      "/var/folders/hd/vwhmchkx3bn5d60v0tpvx4sw0000gp/T/ipykernel_47303/2914606038.py:2: FutureWarning: The default argument for metric will be removed in future version of Annoy. Please pass metric='angular' explicitly.\n",
      "  idx = AnnoyIndex(EMBEDDING_DIM)\n"
     ]
    },
    {
     "name": "stdout",
     "output_type": "stream",
     "text": [
      "dog\n",
      "cat\n",
      "dogs\n",
      "puppy\n",
      "pet\n",
      "horse\n",
      "bear\n",
      "kitten\n",
      "pig\n",
      "animal\n"
     ]
    }
   ],
   "source": [
    "search('dog')"
   ]
  },
  {
   "cell_type": "code",
   "execution_count": 20,
   "id": "009bb372-3a52-4405-98d2-4556e886879d",
   "metadata": {},
   "outputs": [
    {
     "name": "stderr",
     "output_type": "stream",
     "text": [
      "/var/folders/hd/vwhmchkx3bn5d60v0tpvx4sw0000gp/T/ipykernel_47303/2914606038.py:2: FutureWarning: The default argument for metric will be removed in future version of Annoy. Please pass metric='angular' explicitly.\n",
      "  idx = AnnoyIndex(EMBEDDING_DIM)\n"
     ]
    },
    {
     "name": "stdout",
     "output_type": "stream",
     "text": [
      "chess\n",
      "tournament\n",
      "monopoly\n",
      "masters\n",
      "tennis\n",
      "champion\n",
      "title\n",
      "championships\n",
      "player\n",
      "opponent\n"
     ]
    }
   ],
   "source": [
    "search('chess')"
   ]
  },
  {
   "cell_type": "code",
   "execution_count": 21,
   "id": "172abfac-fc52-433b-bd1c-e7c81e08d660",
   "metadata": {},
   "outputs": [
    {
     "name": "stderr",
     "output_type": "stream",
     "text": [
      "/var/folders/hd/vwhmchkx3bn5d60v0tpvx4sw0000gp/T/ipykernel_47303/2914606038.py:2: FutureWarning: The default argument for metric will be removed in future version of Annoy. Please pass metric='angular' explicitly.\n",
      "  idx = AnnoyIndex(EMBEDDING_DIM)\n"
     ]
    },
    {
     "name": "stdout",
     "output_type": "stream",
     "text": [
      "football\n",
      "soccer\n",
      "sports\n",
      "baseball\n",
      "players\n",
      "league\n",
      "hockey\n",
      "rugby\n",
      "teams\n",
      "championship\n"
     ]
    }
   ],
   "source": [
    "search('football')"
   ]
  },
  {
   "cell_type": "markdown",
   "id": "a42f1551-1a26-4531-b57c-f40431861de3",
   "metadata": {},
   "source": [
    "so much better than the Skip-gram example!"
   ]
  },
  {
   "cell_type": "code",
   "execution_count": 22,
   "id": "1e2de697-ee78-4ff0-9f5f-474810c05664",
   "metadata": {},
   "outputs": [
    {
     "name": "stderr",
     "output_type": "stream",
     "text": [
      "/var/folders/hd/vwhmchkx3bn5d60v0tpvx4sw0000gp/T/ipykernel_47303/2914606038.py:2: FutureWarning: The default argument for metric will be removed in future version of Annoy. Please pass metric='angular' explicitly.\n",
      "  idx = AnnoyIndex(EMBEDDING_DIM)\n"
     ]
    },
    {
     "name": "stdout",
     "output_type": "stream",
     "text": [
      "journalist\n",
      "activist\n",
      "filmmaker\n",
      "politician\n",
      "correspondent\n",
      "former\n",
      "detained\n",
      "colleague\n",
      "pakistani\n",
      "accused\n"
     ]
    }
   ],
   "source": [
    "search('journalist')"
   ]
  },
  {
   "cell_type": "code",
   "execution_count": 23,
   "id": "53c121d9-9b20-45ce-8054-d735271d66b0",
   "metadata": {},
   "outputs": [
    {
     "name": "stderr",
     "output_type": "stream",
     "text": [
      "/var/folders/hd/vwhmchkx3bn5d60v0tpvx4sw0000gp/T/ipykernel_47303/2914606038.py:2: FutureWarning: The default argument for metric will be removed in future version of Annoy. Please pass metric='angular' explicitly.\n",
      "  idx = AnnoyIndex(EMBEDDING_DIM)\n"
     ]
    },
    {
     "name": "stdout",
     "output_type": "stream",
     "text": [
      "december\n",
      "february\n",
      "november\n",
      "october\n",
      "january\n",
      "august\n",
      "june\n",
      "september\n",
      "april\n",
      "march\n"
     ]
    }
   ],
   "source": [
    "search('december')"
   ]
  },
  {
   "cell_type": "code",
   "execution_count": null,
   "id": "a129cd5b-01a4-408b-a300-9c75af09da21",
   "metadata": {},
   "outputs": [],
   "source": []
  }
 ],
 "metadata": {
  "kernelspec": {
   "display_name": "Python 3 (ipykernel)",
   "language": "python",
   "name": "python3"
  },
  "language_info": {
   "codemirror_mode": {
    "name": "ipython",
    "version": 3
   },
   "file_extension": ".py",
   "mimetype": "text/x-python",
   "name": "python",
   "nbconvert_exporter": "python",
   "pygments_lexer": "ipython3",
   "version": "3.9.7"
  }
 },
 "nbformat": 4,
 "nbformat_minor": 5
}
