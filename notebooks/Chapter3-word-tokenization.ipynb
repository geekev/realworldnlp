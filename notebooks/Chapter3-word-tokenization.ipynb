{
 "cells": [
  {
   "cell_type": "markdown",
   "id": "170ec4e3-8f52-4960-891a-9dc50889fa7c",
   "metadata": {},
   "source": [
    "##### Tokenize words and sentences using NLTK"
   ]
  },
  {
   "cell_type": "code",
   "execution_count": 2,
   "id": "e61f04c3-b691-41d9-bedc-013e30c601e7",
   "metadata": {},
   "outputs": [],
   "source": [
    "import nltk\n",
    "from nltk.tokenize import word_tokenize, sent_tokenize"
   ]
  },
  {
   "cell_type": "code",
   "execution_count": 5,
   "id": "e020655c-d744-411b-b38f-c86d7425adf1",
   "metadata": {},
   "outputs": [],
   "source": [
    "s = '''\n",
    "    Good muffins cost $3.88\\nin New York. Please buy me two of them.\\n\\nThanks.\n",
    "    '''"
   ]
  },
  {
   "cell_type": "markdown",
   "id": "c59c6dc7-d047-447b-8b6e-b73fcd7d0f35",
   "metadata": {},
   "source": [
    "word_tokenize splits the text into a list of words"
   ]
  },
  {
   "cell_type": "code",
   "execution_count": 6,
   "id": "08eeb170-e960-42a2-bb46-b12edab74c8e",
   "metadata": {},
   "outputs": [
    {
     "data": {
      "text/plain": [
       "['Good',\n",
       " 'muffins',\n",
       " 'cost',\n",
       " '$',\n",
       " '3.88',\n",
       " 'in',\n",
       " 'New',\n",
       " 'York',\n",
       " '.',\n",
       " 'Please',\n",
       " 'buy',\n",
       " 'me',\n",
       " 'two',\n",
       " 'of',\n",
       " 'them',\n",
       " '.',\n",
       " 'Thanks',\n",
       " '.']"
      ]
     },
     "execution_count": 6,
     "metadata": {},
     "output_type": "execute_result"
    }
   ],
   "source": [
    "word_tokenize(s)"
   ]
  },
  {
   "cell_type": "markdown",
   "id": "a321fb4a-3e8f-4c4c-a16a-d1e8312fcbac",
   "metadata": {},
   "source": [
    "sent_tokenize separates the text by _sent_ence."
   ]
  },
  {
   "cell_type": "code",
   "execution_count": 7,
   "id": "6078dfae-aa6a-4fe2-a258-172b6da97480",
   "metadata": {},
   "outputs": [
    {
     "data": {
      "text/plain": [
       "['\\n    Good muffins cost $3.88\\nin New York.',\n",
       " 'Please buy me two of them.',\n",
       " 'Thanks.']"
      ]
     },
     "execution_count": 7,
     "metadata": {},
     "output_type": "execute_result"
    }
   ],
   "source": [
    "sent_tokenize(s)"
   ]
  },
  {
   "cell_type": "markdown",
   "id": "7274209b-9e43-4a65-bccc-c096934007eb",
   "metadata": {},
   "source": [
    "##### Tokenize words and sentences using Spacy"
   ]
  },
  {
   "cell_type": "code",
   "execution_count": 10,
   "id": "5a5be70e-7172-480e-9bd8-943d38f908e3",
   "metadata": {},
   "outputs": [],
   "source": [
    "import spacy\n",
    "nlp = spacy.load('en_core_web_sm')"
   ]
  },
  {
   "cell_type": "code",
   "execution_count": 11,
   "id": "21ed1f54-ab50-4841-8406-ab4081d83a82",
   "metadata": {},
   "outputs": [],
   "source": [
    "doc = nlp(s)"
   ]
  },
  {
   "cell_type": "code",
   "execution_count": 16,
   "id": "4443dcf1-35cd-4f67-b1ae-28b9231fb73a",
   "metadata": {},
   "outputs": [
    {
     "data": {
      "text/plain": [
       "['\\n    ',\n",
       " 'Good',\n",
       " 'muffins',\n",
       " 'cost',\n",
       " '$',\n",
       " '3.88',\n",
       " '\\n',\n",
       " 'in',\n",
       " 'New',\n",
       " 'York',\n",
       " '.',\n",
       " 'Please',\n",
       " 'buy',\n",
       " 'me',\n",
       " 'two',\n",
       " 'of',\n",
       " 'them',\n",
       " '.',\n",
       " '\\n\\n',\n",
       " 'Thanks',\n",
       " '.',\n",
       " '\\n    ']"
      ]
     },
     "execution_count": 16,
     "metadata": {},
     "output_type": "execute_result"
    }
   ],
   "source": [
    "#using list comprehension to tokenize words\n",
    "[token.text for token in doc]"
   ]
  },
  {
   "cell_type": "markdown",
   "id": "cddbbd51-73c7-4ae8-af03-ef27972aa2d0",
   "metadata": {},
   "source": [
    "#### NB Errata in book\n",
    "original code has 'sent.string.strip()' but the text attribure is needed instead as per [stackoverflow](https://stackoverflow.com/questions/67646070/attributeerror-spacy-tokens-span-span-object-has-no-attribute-string)"
   ]
  },
  {
   "cell_type": "code",
   "execution_count": 26,
   "id": "674d07d9-30c8-4529-9484-ad8f4a482be8",
   "metadata": {},
   "outputs": [
    {
     "data": {
      "text/plain": [
       "['Good muffins cost $3.88\\nin New York.',\n",
       " 'Please buy me two of them.',\n",
       " '',\n",
       " 'Thanks.',\n",
       " '']"
      ]
     },
     "execution_count": 26,
     "metadata": {},
     "output_type": "execute_result"
    }
   ],
   "source": [
    "[sent.text.strip() for sent in doc.sents]"
   ]
  },
  {
   "cell_type": "code",
   "execution_count": 22,
   "id": "a52549e3-7d72-458a-b491-c1859c9d13b8",
   "metadata": {},
   "outputs": [
    {
     "data": {
      "text/plain": [
       "<generator at 0x149ac89a0>"
      ]
     },
     "execution_count": 22,
     "metadata": {},
     "output_type": "execute_result"
    }
   ],
   "source": [
    "doc.sents"
   ]
  },
  {
   "cell_type": "code",
   "execution_count": null,
   "id": "ffa7f7c9-3781-4c6b-8740-c14c05e30156",
   "metadata": {},
   "outputs": [],
   "source": []
  }
 ],
 "metadata": {
  "kernelspec": {
   "display_name": "Python 3 (ipykernel)",
   "language": "python",
   "name": "python3"
  },
  "language_info": {
   "codemirror_mode": {
    "name": "ipython",
    "version": 3
   },
   "file_extension": ".py",
   "mimetype": "text/x-python",
   "name": "python",
   "nbconvert_exporter": "python",
   "pygments_lexer": "ipython3",
   "version": "3.9.7"
  }
 },
 "nbformat": 4,
 "nbformat_minor": 5
}
