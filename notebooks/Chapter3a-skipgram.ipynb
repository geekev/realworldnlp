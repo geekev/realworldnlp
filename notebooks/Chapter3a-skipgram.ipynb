{
 "cells": [
  {
   "cell_type": "code",
   "execution_count": 1,
   "id": "ef8e94a1-32a1-4c87-8f78-3b42f5646c65",
   "metadata": {},
   "outputs": [],
   "source": [
    "from pathlib import Path\n",
    "import sys\n",
    "project_dir = str( Path().resolve().parent )\n",
    "sys.path += [ project_dir ]\n",
    "from examples.embeddings.word2vec import SkipGramReader"
   ]
  },
  {
   "cell_type": "code",
   "execution_count": 2,
   "id": "58b65b4d-038e-4a27-9990-272b1479302d",
   "metadata": {},
   "outputs": [],
   "source": [
    "reader = SkipGramReader()\n",
    "text8 = reader.read('https://realworldnlpbook.s3.amazonaws.com/data/text8/text8')"
   ]
  },
  {
   "cell_type": "code",
   "execution_count": 3,
   "id": "f59d17da-071d-4f17-9633-2df17c7c2cb6",
   "metadata": {},
   "outputs": [],
   "source": [
    "from collections import Counter\n",
    " \n",
    "import torch\n",
    "import torch.optim as optim\n",
    "from allennlp.data.data_loaders import SimpleDataLoader\n",
    "from allennlp.data.vocabulary import Vocabulary\n",
    "from allennlp.models import Model\n",
    "from allennlp.modules.token_embedders import Embedding\n",
    "#Note type in text \n",
    "#from allennlp.training.trainer import GradientDescentTrainer\n",
    "from allennlp.training import GradientDescentTrainer\n",
    "from torch.nn import CosineSimilarity\n",
    "from torch.nn import functional\n",
    " \n",
    "EMBEDDING_DIM = 256\n",
    "BATCH_SIZE = 256"
   ]
  },
  {
   "cell_type": "code",
   "execution_count": 4,
   "id": "92ddbcfd-edd7-405c-8720-a4cc64e2fcdc",
   "metadata": {},
   "outputs": [],
   "source": [
    "#vocab = Vocabulary.from_instances(\n",
    "#    text8, min_count={'token_in': 5, 'token_out': 5})"
   ]
  },
  {
   "cell_type": "code",
   "execution_count": 5,
   "id": "26ce18d5-0e63-4415-8861-6928cde586fb",
   "metadata": {},
   "outputs": [],
   "source": [
    "#data_loader = SimpleDataLoader(text8, batch_size=BATCH_SIZE)\n",
    "#data_loader.index_with(vocab)"
   ]
  },
  {
   "cell_type": "code",
   "execution_count": 6,
   "id": "3d69daa2-e0e4-42f1-8119-10dcccca2ea2",
   "metadata": {},
   "outputs": [],
   "source": [
    "#embedding_in = Embedding(num_embeddings=vocab.get_vocab_size('token_in'),\n",
    "#                         embedding_dim=EMBEDDING_DIM)"
   ]
  },
  {
   "cell_type": "code",
   "execution_count": 7,
   "id": "fc52142e-274e-41a6-8314-af7dae51e281",
   "metadata": {},
   "outputs": [],
   "source": [
    "class SkipGramModel(Model):\n",
    "    def __init__(self, vocab, embedding_in):\n",
    "        super().__init__(vocab)\n",
    "        \n",
    "        self.embedding_in = embedding_in\n",
    "        self.linear = torch.nn.Linear(\n",
    "            in_features=EMBEDDING_DIM,\n",
    "            out_features=vocab.get_vocab_size('token_out'),\n",
    "            bias=False)\n",
    "    \n",
    "    def forward(self, token_in, token_out):\n",
    "        embedded_in = self.embedding_in(token_in)\n",
    "        logits = self.linear(embedded_in)\n",
    "        loss = functional.cross_entropy(logits, token_out)\n",
    "        return {'loss': loss}"
   ]
  },
  {
   "cell_type": "code",
   "execution_count": 8,
   "id": "ad70e1f0-f3bf-4db8-9462-4216c7810bb5",
   "metadata": {},
   "outputs": [
    {
     "data": {
      "application/vnd.jupyter.widget-view+json": {
       "model_id": "0c48f708cd6845ef8f66dffb414210b9",
       "version_major": 2,
       "version_minor": 0
      },
      "text/plain": [
       "building vocab: 0it [00:00, ?it/s]"
      ]
     },
     "metadata": {},
     "output_type": "display_data"
    },
    {
     "name": "stderr",
     "output_type": "stream",
     "text": [
      "Your label namespace was 'token_in'. We recommend you use a namespace ending with 'labels' or 'tags', so we don't add UNK and PAD tokens by default to your vocabulary.  See documentation for `non_padded_namespaces` parameter in Vocabulary.\n",
      "Your label namespace was 'token_out'. We recommend you use a namespace ending with 'labels' or 'tags', so we don't add UNK and PAD tokens by default to your vocabulary.  See documentation for `non_padded_namespaces` parameter in Vocabulary.\n"
     ]
    },
    {
     "data": {
      "application/vnd.jupyter.widget-view+json": {
       "model_id": "454c36f00b3d4355b976c6eba13acf66",
       "version_major": 2,
       "version_minor": 0
      },
      "text/plain": [
       "0it [00:00, ?it/s]"
      ]
     },
     "metadata": {},
     "output_type": "display_data"
    },
    {
     "data": {
      "application/vnd.jupyter.widget-view+json": {
       "model_id": "a4dbeb198e334512a4ca58f2c01ff7f0",
       "version_major": 2,
       "version_minor": 0
      },
      "text/plain": [
       "0it [00:00, ?it/s]"
      ]
     },
     "metadata": {},
     "output_type": "display_data"
    },
    {
     "data": {
      "application/vnd.jupyter.widget-view+json": {
       "model_id": "d68bc49309dd400b8f99916844175e4a",
       "version_major": 2,
       "version_minor": 0
      },
      "text/plain": [
       "0it [00:00, ?it/s]"
      ]
     },
     "metadata": {},
     "output_type": "display_data"
    },
    {
     "data": {
      "application/vnd.jupyter.widget-view+json": {
       "model_id": "c069468b21f74e15a85416fecb979962",
       "version_major": 2,
       "version_minor": 0
      },
      "text/plain": [
       "0it [00:00, ?it/s]"
      ]
     },
     "metadata": {},
     "output_type": "display_data"
    },
    {
     "data": {
      "application/vnd.jupyter.widget-view+json": {
       "model_id": "85f9f86963f04f72a768a5a82a7ad677",
       "version_major": 2,
       "version_minor": 0
      },
      "text/plain": [
       "0it [00:00, ?it/s]"
      ]
     },
     "metadata": {},
     "output_type": "display_data"
    },
    {
     "data": {
      "text/plain": [
       "{'best_epoch': 4,\n",
       " 'peak_worker_0_memory_MB': 1501.828125,\n",
       " 'training_duration': '0:00:00.506435',\n",
       " 'epoch': 4,\n",
       " 'training_loss': 0.0,\n",
       " 'training_worker_0_memory_MB': 1501.828125}"
      ]
     },
     "execution_count": 8,
     "metadata": {},
     "output_type": "execute_result"
    }
   ],
   "source": [
    "reader = SkipGramReader()\n",
    "text8 = reader.read(\"https://realworldnlpbook.s3.amazonaws.com/data/text8/text8\")\n",
    " \n",
    "vocab = Vocabulary.from_instances(\n",
    "    text8, min_count={'token_in': 5, 'token_out': 5})\n",
    " \n",
    "data_loader = SimpleDataLoader(text8, batch_size=BATCH_SIZE)\n",
    "data_loader.index_with(vocab)\n",
    " \n",
    "embedding_in = Embedding(num_embeddings=vocab.get_vocab_size('token_in'),\n",
    "                         embedding_dim=EMBEDDING_DIM)\n",
    "\n",
    "model = SkipGramModel(vocab=vocab,\n",
    "                      embedding_in=embedding_in)\n",
    "optimizer = optim.Adam(model.parameters())\n",
    "\n",
    "trainer = GradientDescentTrainer(\n",
    "    model=model,\n",
    "    optimizer=optimizer,\n",
    "    data_loader=data_loader,\n",
    "    num_epochs=5,\n",
    "#SET cuda_device = -1 to specify no GPU\n",
    "    cuda_device=-1)\n",
    "trainer.train()"
   ]
  },
  {
   "cell_type": "markdown",
   "id": "72e8240c-e9b1-4b25-b5ce-f163b58fdbca",
   "metadata": {},
   "source": [
    "3.3. Method to obtain related words using Word embeddings"
   ]
  },
  {
   "cell_type": "code",
   "execution_count": 14,
   "id": "d6732035-2c1c-4ba6-b789-8004e9ace6f4",
   "metadata": {},
   "outputs": [],
   "source": [
    "def get_related(token: str, embedding: Model, vocab: Vocabulary, \n",
    "                num_synonyms: int = 10):\n",
    "    token_id = vocab.get_token_index(token, 'token_in')\n",
    "    token_vec = embedding.weight[token_id]\n",
    "    cosine = CosineSimilarity(dim=0)\n",
    "    sims = Counter()\n",
    " \n",
    "    for index, token in vocab.get_index_to_token_vocabulary('token_in').items():\n",
    "        sim = cosine(token_vec, embedding.weight[index]).item()\n",
    "        sims[token] = sim\n",
    " \n",
    "    return sims.most_common(num_synonyms)\n"
   ]
  },
  {
   "cell_type": "code",
   "execution_count": 19,
   "id": "2d099a45-52a2-4e2e-a3ec-ae34319de2df",
   "metadata": {},
   "outputs": [
    {
     "data": {
      "text/plain": [
       "[('one', 1.0),\n",
       " ('skewed', 0.24608801305294037),\n",
       " ('jacque', 0.24332156777381897),\n",
       " ('decennia', 0.24042947590351105),\n",
       " ('fodder', 0.23265540599822998),\n",
       " ('memorandum', 0.22695478796958923),\n",
       " ('chibia', 0.22599883377552032),\n",
       " ('freeways', 0.22321894764900208),\n",
       " ('authority', 0.2220715880393982),\n",
       " ('smallest', 0.22094282507896423)]"
      ]
     },
     "execution_count": 19,
     "metadata": {},
     "output_type": "execute_result"
    }
   ],
   "source": [
    "get_related('one', embedding_in, vocab)"
   ]
  },
  {
   "cell_type": "code",
   "execution_count": 18,
   "id": "13bf6bd9-352b-45c5-a32f-bfa3b91bc716",
   "metadata": {},
   "outputs": [
    {
     "data": {
      "text/plain": [
       "[('chess', 1.0),\n",
       " ('crudus', 0.2711144685745239),\n",
       " ('freemasonry', 0.26305800676345825),\n",
       " ('pitted', 0.2609158754348755),\n",
       " ('directories', 0.23276613652706146),\n",
       " ('archives', 0.23150384426116943),\n",
       " ('kirillovich', 0.22892335057258606),\n",
       " ('takeji', 0.2265753597021103),\n",
       " ('junta', 0.22534406185150146),\n",
       " ('pluto', 0.2240152657032013)]"
      ]
     },
     "execution_count": 18,
     "metadata": {},
     "output_type": "execute_result"
    }
   ],
   "source": [
    "get_related('chess', embedding_in, vocab)"
   ]
  },
  {
   "cell_type": "code",
   "execution_count": 20,
   "id": "2c3ee816-fb37-4849-bb20-f5c575809c95",
   "metadata": {},
   "outputs": [
    {
     "data": {
      "text/plain": [
       "[('football', 1.0),\n",
       " ('ranged', 0.3013802170753479),\n",
       " ('irrational', 0.24819530546665192),\n",
       " ('sabine', 0.2465231567621231),\n",
       " ('countrymen', 0.23291805386543274),\n",
       " ('gangadhar', 0.22183726727962494),\n",
       " ('petrie', 0.22163599729537964),\n",
       " ('scorn', 0.21885591745376587),\n",
       " ('specialised', 0.21760006248950958),\n",
       " ('hello', 0.21522819995880127)]"
      ]
     },
     "execution_count": 20,
     "metadata": {},
     "output_type": "execute_result"
    }
   ],
   "source": [
    "get_related('football', embedding_in, vocab)"
   ]
  },
  {
   "cell_type": "markdown",
   "id": "a333039b-30e9-4681-a6f5-41afe2f3b186",
   "metadata": {},
   "source": [
    "Despite what it says in the book, these results seem terrible to me! <br>\n",
    "There are improvents  that can be applied, but the text goes on to explain that GloVe is better on the whole so probably not worth investigating."
   ]
  },
  {
   "cell_type": "code",
   "execution_count": null,
   "id": "8975ef65-72fd-4ab6-89d8-c265217d8e18",
   "metadata": {},
   "outputs": [],
   "source": []
  }
 ],
 "metadata": {
  "kernelspec": {
   "display_name": "Python 3 (ipykernel)",
   "language": "python",
   "name": "python3"
  },
  "language_info": {
   "codemirror_mode": {
    "name": "ipython",
    "version": 3
   },
   "file_extension": ".py",
   "mimetype": "text/x-python",
   "name": "python",
   "nbconvert_exporter": "python",
   "pygments_lexer": "ipython3",
   "version": "3.9.7"
  }
 },
 "nbformat": 4,
 "nbformat_minor": 5
}
