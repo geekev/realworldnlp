{
 "cells": [
  {
   "cell_type": "markdown",
   "id": "bbb2b8b8-1fca-4987-9a83-e2f2a62f697d",
   "metadata": {},
   "source": [
    "#### This is the first notebook for working through Real-World NLP\n",
    "\n",
    "Hagiwara, Masato. Real-World Natural Language Processing (p. 83). Manning. Kindle Edition. "
   ]
  },
  {
   "cell_type": "markdown",
   "id": "f0636d95-6a0c-4890-a6f1-1b1f9117fe15",
   "metadata": {},
   "source": [
    "Everything in the cell below ran in my python 3.9.7 poetry environment :-)"
   ]
  },
  {
   "cell_type": "code",
   "execution_count": 1,
   "id": "13b48cda-a8f0-439f-a42c-7ce0f068ab51",
   "metadata": {},
   "outputs": [],
   "source": [
    "from itertools import chain\n",
    "from typing import Dict\n",
    " \n",
    "import numpy as np\n",
    "import torch\n",
    "import torch.optim as optim\n",
    "from allennlp.data.data_loaders import MultiProcessDataLoader\n",
    "from allennlp.data.samplers import BucketBatchSampler\n",
    "from allennlp.data.vocabulary import Vocabulary\n",
    "from allennlp.models import Model\n",
    "from allennlp.modules.seq2vec_encoders import Seq2VecEncoder, PytorchSeq2VecWrapper\n",
    "from allennlp.modules.text_field_embedders import TextFieldEmbedder, BasicTextFieldEmbedder\n",
    "from allennlp.modules.token_embedders import Embedding\n",
    "from allennlp.nn.util import get_text_field_mask\n",
    "from allennlp.training import GradientDescentTrainer\n",
    "from allennlp.training.metrics import CategoricalAccuracy, F1Measure\n",
    "from allennlp_models.classification.dataset_readers.stanford_sentiment_tree_bank import StanfordSentimentTreeBankDatasetReader"
   ]
  },
  {
   "cell_type": "code",
   "execution_count": 2,
   "id": "005d9f8d-96a6-4ecd-8d28-d4e6324d8aca",
   "metadata": {
    "tags": []
   },
   "outputs": [],
   "source": [
    "EMBEDDING_DIM = 128\n",
    "HIDDEN_DIM = 128"
   ]
  },
  {
   "cell_type": "code",
   "execution_count": 5,
   "id": "22034f4c-6292-48d0-9365-34b9ab50e899",
   "metadata": {},
   "outputs": [],
   "source": [
    "reader = StanfordSentimentTreeBankDatasetReader()\n",
    "train_path = 'https://s3.amazonaws.com/realworldnlpbook/data/stanfordSentimentTreebank/trees/train.txt'\n",
    "dev_path = 'https://s3.amazonaws.com/realworldnlpbook/data/stanfordSentimentTreebank/trees/dev.txt'"
   ]
  },
  {
   "cell_type": "markdown",
   "id": "82316124-cb50-4c53-8152-dd1233ee31b3",
   "metadata": {},
   "source": [
    "That completes the initial setup."
   ]
  },
  {
   "cell_type": "markdown",
   "id": "7a8d890d-dc6e-4aa9-9c67-abf41e3f1121",
   "metadata": {},
   "source": [
    "#### 2.3.2 Using Word Embedding for snteiment analysis\n"
   ]
  },
  {
   "cell_type": "markdown",
   "id": "676000c5-668a-415d-9b89-d5868206fbd9",
   "metadata": {},
   "source": [
    "Create dataset loaders to pass data to training pipeline"
   ]
  },
  {
   "cell_type": "code",
   "execution_count": 14,
   "id": "6e76f4be-79e2-4330-8d32-d122d2fdc14a",
   "metadata": {},
   "outputs": [
    {
     "name": "stdout",
     "output_type": "stream",
     "text": [
      "Enabling notebook extension jupyter-js-widgets/extension...\n",
      "      - Validating: \u001b[32mOK\u001b[0m\n",
      "Exception ignored in: <function Application.__del__ at 0x10e44dee0>\n",
      "Traceback (most recent call last):\n",
      "  File \"/Users/kevin/Library/Caches/pypoetry/virtualenvs/realworldnlp-busD8IA1-py3.9/lib/python3.9/site-packages/traitlets/config/application.py\", line 955, in __del__\n",
      "  File \"/Users/kevin/Library/Caches/pypoetry/virtualenvs/realworldnlp-busD8IA1-py3.9/lib/python3.9/site-packages/traitlets/config/application.py\", line 945, in close_handlers\n",
      "  File \"/Users/kevin/Library/Caches/pypoetry/virtualenvs/realworldnlp-busD8IA1-py3.9/lib/python3.9/site-packages/traitlets/traitlets.py\", line 683, in __get__\n",
      "  File \"/Users/kevin/Library/Caches/pypoetry/virtualenvs/realworldnlp-busD8IA1-py3.9/lib/python3.9/site-packages/traitlets/traitlets.py\", line 657, in get\n",
      "  File \"/Users/kevin/Library/Caches/pypoetry/virtualenvs/realworldnlp-busD8IA1-py3.9/lib/python3.9/site-packages/traitlets/traitlets.py\", line 1428, in _notify_observers\n",
      "  File \"/Users/kevin/Library/Caches/pypoetry/virtualenvs/realworldnlp-busD8IA1-py3.9/lib/python3.9/site-packages/traitlets/config/application.py\", line 273, in _observe_logging_default\n",
      "  File \"/Users/kevin/Library/Caches/pypoetry/virtualenvs/realworldnlp-busD8IA1-py3.9/lib/python3.9/site-packages/traitlets/config/application.py\", line 278, in _configure_logging\n",
      "  File \"/Users/kevin/.pyenv/versions/3.9.7/lib/python3.9/logging/config.py\", line 809, in dictConfig\n",
      "  File \"/Users/kevin/.pyenv/versions/3.9.7/lib/python3.9/logging/config.py\", line 546, in configure\n",
      "ValueError: Unable to configure formatter 'console'\n"
     ]
    }
   ],
   "source": [
    "!poetry run jupyter nbextension enable --py widgetsnbextension"
   ]
  },
  {
   "cell_type": "code",
   "execution_count": 7,
   "id": "ab2c8a85-5b94-4e18-aea1-615b21caba39",
   "metadata": {},
   "outputs": [
    {
     "data": {
      "application/vnd.jupyter.widget-view+json": {
       "model_id": "383cc3830bc74b789f60495ced19e43c",
       "version_major": 2,
       "version_minor": 0
      },
      "text/plain": [
       "loading instances: 0it [00:00, ?it/s]"
      ]
     },
     "metadata": {},
     "output_type": "display_data"
    },
    {
     "data": {
      "application/vnd.jupyter.widget-view+json": {
       "model_id": "90f2271f0de24752aa9674cc421804d1",
       "version_major": 2,
       "version_minor": 0
      },
      "text/plain": [
       "loading instances: 0it [00:00, ?it/s]"
      ]
     },
     "metadata": {},
     "output_type": "display_data"
    },
    {
     "data": {
      "application/vnd.jupyter.widget-view+json": {
       "model_id": "da2d066138a8407780cb7e4f798f3ab0",
       "version_major": 2,
       "version_minor": 0
      },
      "text/plain": [
       "downloading:   0%|          | 0/280825 [00:00<?, ?B/s]"
      ]
     },
     "metadata": {},
     "output_type": "display_data"
    }
   ],
   "source": [
    "sampler = BucketBatchSampler(batch_size=32, sorting_keys=[\"tokens\"])\n",
    "train_data_loader = MultiProcessDataLoader(reader, train_path, batch_sampler=sampler)\n",
    "dev_data_loader = MultiProcessDataLoader(reader, dev_path, batch_sampler = sampler)"
   ]
  },
  {
   "cell_type": "code",
   "execution_count": 16,
   "id": "23396272-61c3-429a-8651-cb66e6f29071",
   "metadata": {},
   "outputs": [
    {
     "ename": "ImportError",
     "evalue": "cannot import name 'IProgress' from 'ipywidgets' (/Users/kevin/Library/Caches/pypoetry/virtualenvs/realworldnlp-busD8IA1-py3.9/lib/python3.9/site-packages/ipywidgets/__init__.py)",
     "output_type": "error",
     "traceback": [
      "\u001b[0;31m---------------------------------------------------------------------------\u001b[0m",
      "\u001b[0;31mImportError\u001b[0m                               Traceback (most recent call last)",
      "Input \u001b[0;32mIn [16]\u001b[0m, in \u001b[0;36m<cell line: 2>\u001b[0;34m()\u001b[0m\n\u001b[1;32m      1\u001b[0m \u001b[38;5;28;01mfrom\u001b[39;00m \u001b[38;5;21;01mipywidgets\u001b[39;00m \u001b[38;5;28;01mimport\u001b[39;00m IntProgress\n\u001b[0;32m----> 2\u001b[0m \u001b[38;5;28;01mfrom\u001b[39;00m \u001b[38;5;21;01mipywidgets\u001b[39;00m \u001b[38;5;28;01mimport\u001b[39;00m IProgress\n",
      "\u001b[0;31mImportError\u001b[0m: cannot import name 'IProgress' from 'ipywidgets' (/Users/kevin/Library/Caches/pypoetry/virtualenvs/realworldnlp-busD8IA1-py3.9/lib/python3.9/site-packages/ipywidgets/__init__.py)"
     ]
    }
   ],
   "source": [
    "from ipywidgets import IntProgress\n",
    "from ipywidgets import IProgress"
   ]
  },
  {
   "cell_type": "code",
   "execution_count": null,
   "id": "c0613b82-29ec-4ac3-be0c-9a0ef85c7bf7",
   "metadata": {},
   "outputs": [],
   "source": []
  }
 ],
 "metadata": {
  "kernelspec": {
   "display_name": "Python 3 (ipykernel)",
   "language": "python",
   "name": "python3"
  },
  "language_info": {
   "codemirror_mode": {
    "name": "ipython",
    "version": 3
   },
   "file_extension": ".py",
   "mimetype": "text/x-python",
   "name": "python",
   "nbconvert_exporter": "python",
   "pygments_lexer": "ipython3",
   "version": "3.9.7"
  }
 },
 "nbformat": 4,
 "nbformat_minor": 5
}
